{
  "nbformat": 4,
  "nbformat_minor": 0,
  "metadata": {
    "colab": {
      "name": "ans_expB_2.ipynb",
      "provenance": [],
      "collapsed_sections": [],
      "include_colab_link": true
    },
    "kernelspec": {
      "name": "python3",
      "display_name": "Python 3"
    }
  },
  "cells": [
    {
      "cell_type": "markdown",
      "metadata": {
        "id": "view-in-github",
        "colab_type": "text"
      },
      "source": [
        "<a href=\"https://colab.research.google.com/github/morisu24/opencv-practice/blob/main/B/expB_2.ipynb\" target=\"_parent\"><img src=\"https://colab.research.google.com/assets/colab-badge.svg\" alt=\"Open In Colab\"/></a>"
      ]
    },
    {
      "cell_type": "code",
      "metadata": {
        "id": "o_VqbnjjI5aX"
      },
      "source": [
        "from google.colab import files\n",
        "uploaded_file = files.upload()"
      ],
      "execution_count": null,
      "outputs": []
    },
    {
      "cell_type": "code",
      "metadata": {
        "id": "vvP-j0-0gFdw"
      },
      "source": [
        "import cv2\n",
        "from google.colab.patches import cv2_imshow  # google colaboratory用のパッチファイル\n",
        "from PIL import Image"
      ],
      "execution_count": null,
      "outputs": []
    },
    {
      "cell_type": "code",
      "metadata": {
        "id": "ISrw4rYUgPMC"
      },
      "source": [
        "# 画像の読み込み\n",
        "img = cv2.imread('jp.png')\n",
        "\n",
        "# 画像の表示　※本当はcv2.imshow()\n",
        "cv2_imshow(img)"
      ],
      "execution_count": null,
      "outputs": []
    },
    {
      "cell_type": "code",
      "metadata": {
        "id": "tFamNgiOWg6Q"
      },
      "source": [
        "height, width, channel = img.shape  # 画像の(行（高さ）, 列（幅）, 色（3）)のタプルを取得\n",
        "after_img = img.copy()  # コピー\n",
        "for i in range(height):\n",
        "    for j in range(width):\n",
        "        # 画素の色取得\n",
        "        r = after_img.item(i,j,2)  # 赤情報にアクセス\n",
        "        g = after_img.item(i,j,1)  # 緑情報にアクセス\n",
        "        b = after_img.item(i,j,0)  # 青情報にアクセス\n",
        "\n",
        "        # 緑(赤:0 緑:255 青:0)を白(赤:255 緑:255 青:255)に変更\n",
        "        if r == 0 and g == 255 and b == 0:\n",
        "            after_img.itemset((i,j,2), 255) \n",
        "            after_img.itemset((i,j,1), 255)\n",
        "            after_img.itemset((i,j,0), 255)\n",
        "        \n",
        "        # 青(赤:0 緑:0 青:255)を赤(赤:255 緑:0 青:0)に変更\n",
        "        if r == 0 and g == 0 and b == 255:\n",
        "            after_img.itemset((i,j,2), 255)\n",
        "            after_img.itemset((i,j,1), 0)\n",
        "            after_img.itemset((i,j,0), 0)\n",
        "\n",
        "# 画像の出力\n",
        "imgs = cv2.hconcat([img, after_img])\n",
        "cv2_imshow(imgs)"
      ],
      "execution_count": null,
      "outputs": []
    }
  ]
}